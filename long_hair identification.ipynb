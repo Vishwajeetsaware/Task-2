{
 "cells": [
  {
   "cell_type": "code",
   "execution_count": 2,
   "metadata": {},
   "outputs": [],
   "source": [
    "import tkinter as tk\n",
    "from tkinter import filedialog\n",
    "from PIL import Image, ImageTk\n",
    "import pandas as pd\n",
    "import numpy as np\n",
    "import os\n",
    "import cv2\n",
    "from sklearn.ensemble import RandomForestClassifier\n",
    "from sklearn.preprocessing import StandardScaler\n",
    "from sklearn.model_selection import train_test_split\n",
    "from tensorflow.keras.preprocessing.image import ImageDataGenerator\n",
    "from tensorflow.keras.applications import InceptionV3\n",
    "from tensorflow.keras.models import Model\n",
    "from tensorflow.keras.layers import Dense, GlobalAveragePooling2D\n"
   ]
  },
  {
   "cell_type": "code",
   "execution_count": 3,
   "metadata": {},
   "outputs": [
    {
     "name": "stdout",
     "output_type": "stream",
     "text": [
      "Found 42202 images belonging to 2 classes.\n"
     ]
    }
   ],
   "source": [
    " # Load the CSV file with feature data\n",
    "features_df = pd.read_csv('gender_classification_v7.csv')\n",
    "\n",
    "# Separate features and target from the CSV file\n",
    "X_features = features_df[['long_hair', 'forehead_width_cm', 'forehead_height_cm']]\n",
    "y_features = features_df['gender']\n",
    "\n",
    "# Standardize the feature data\n",
    "scaler = StandardScaler()\n",
    "X_features_scaled = scaler.fit_transform(X_features)\n",
    "\n",
    "# Prepare ImageDataGenerator for loading images\n",
    "data_gen = ImageDataGenerator(rescale=1.0/255.0)\n",
    "image_data = data_gen.flow_from_directory(\n",
    "    'Training', \n",
    "    target_size=(150, 150),\n",
    "    class_mode='binary',  # binary for male/female classification\n",
    "    batch_size=32,\n",
    "    shuffle=True\n",
    ")\n"
   ]
  },
  {
   "cell_type": "code",
   "execution_count": 4,
   "metadata": {},
   "outputs": [],
   "source": [
    "# Base model for image feature extraction (pre-trained InceptionV3)\n",
    "base_model = InceptionV3(weights='imagenet', include_top=False, input_shape=(150, 150, 3))\n",
    "x = base_model.output\n",
    "x = GlobalAveragePooling2D()(x)\n",
    "image_predictions = Dense(1, activation='sigmoid')(x)  # Binary classification\n",
    "\n",
    "# Final model combining both image and feature data\n",
    "image_model = Model(inputs=base_model.input, outputs=image_predictions)\n",
    "image_model.compile(optimizer='adam', loss='binary_crossentropy', metrics=['accuracy'])\n"
   ]
  },
  {
   "cell_type": "code",
   "execution_count": 5,
   "metadata": {},
   "outputs": [
    {
     "data": {
      "text/plain": [
       "<keras.callbacks.History at 0x289359e8730>"
      ]
     },
     "execution_count": 5,
     "metadata": {},
     "output_type": "execute_result"
    }
   ],
   "source": [
    "# Train the model using the images in the \"Training\" folder\n",
    "image_model.fit(image_data, epochs=0)\n"
   ]
  },
  {
   "cell_type": "code",
   "execution_count": 9,
   "metadata": {},
   "outputs": [],
   "source": [
    "def predict_gender(filepath, age, long_hair, forehead_width, forehead_height):\n",
    "    # Determine the gender based on the custom age rule\n",
    "    if 20 <= age <= 30:\n",
    "        # Override gender based on hair length\n",
    "        predicted_gender = 'Female' if long_hair == 1 else 'Male'\n",
    "    else:\n",
    "        # Use the feature-based model for individuals outside 20-30 age range\n",
    "        features = scaler.transform([[long_hair, forehead_width, forehead_height]])\n",
    "        predicted_gender = model.predict(features)[0]\n",
    "\n",
    "    return predicted_gender\n"
   ]
  },
  {
   "cell_type": "code",
   "execution_count": 8,
   "metadata": {},
   "outputs": [],
   "source": [
    "def upload_image():\n",
    "    # Open file dialog to select an image file\n",
    "    filepath = filedialog.askopenfilename(filetypes=[(\"Image files\", \"*.jpg *.jpeg *.png\")])\n",
    "    if filepath:\n",
    "        # Display selected image\n",
    "        img = Image.open(filepath)\n",
    "        img = img.resize((200, 200), Image.LANCZOS)  # Resize with LANCZOS filter for quality\n",
    "        img = ImageTk.PhotoImage(img)\n",
    "        image_label.config(image=img)\n",
    "        image_label.image = img\n",
    "\n",
    "        # Simulate retrieving metadata for this example\n",
    "        age = 25  # Assuming age for testing\n",
    "        long_hair = 1  # Assuming long hair for testing\n",
    "        forehead_width = 14.0  # Example width\n",
    "        forehead_height = 7.0  # Example height\n",
    "\n",
    "        # Perform gender prediction based on rules\n",
    "        predicted_gender = predict_gender(filepath, age, long_hair, forehead_width, forehead_height)\n",
    "        result_text = f\"Predicted Gender: {predicted_gender}\\nAge: {age}\"\n",
    "        output_label.config(text=result_text)\n",
    "\n",
    "# Set up Tkinter GUI\n",
    "root = tk.Tk()\n",
    "root.title(\"Long Hair Gender Prediction\")\n",
    "root.geometry(\"400x500\")\n",
    "\n",
    "# Button to upload image\n",
    "upload_button = tk.Button(root, text=\"Upload Image\", command=upload_image)\n",
    "upload_button.pack()\n",
    "\n",
    "# Image label for displaying uploaded image\n",
    "image_label = tk.Label(root)\n",
    "image_label.pack()\n",
    "\n",
    "# Define the output label here to display prediction results\n",
    "output_label = tk.Label(root, text=\"Results will be shown here\", wraplength=300, justify=\"left\")\n",
    "output_label.pack()\n",
    "\n",
    "# Run the GUI main loop\n",
    "root.mainloop()\n"
   ]
  },
  {
   "cell_type": "code",
   "execution_count": null,
   "metadata": {},
   "outputs": [],
   "source": []
  },
  {
   "cell_type": "code",
   "execution_count": null,
   "metadata": {},
   "outputs": [],
   "source": []
  }
 ],
 "metadata": {
  "kernelspec": {
   "display_name": "Python 3",
   "language": "python",
   "name": "python3"
  },
  "language_info": {
   "codemirror_mode": {
    "name": "ipython",
    "version": 3
   },
   "file_extension": ".py",
   "mimetype": "text/x-python",
   "name": "python",
   "nbconvert_exporter": "python",
   "pygments_lexer": "ipython3",
   "version": "3.10.10"
  }
 },
 "nbformat": 4,
 "nbformat_minor": 2
}
